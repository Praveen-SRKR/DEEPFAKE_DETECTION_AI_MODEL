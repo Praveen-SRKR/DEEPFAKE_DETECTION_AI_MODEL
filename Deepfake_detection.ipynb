{
 "cells": [
  {
   "cell_type": "markdown",
   "id": "a2220df6",
   "metadata": {},
   "source": [
    "# Import Libraries"
   ]
  },
  {
   "cell_type": "code",
   "execution_count": null,
   "id": "ba7980f8-933c-470d-ad9c-7bb4a956a7c0",
   "metadata": {},
   "outputs": [],
   "source": []
  },
  {
   "cell_type": "code",
   "execution_count": 18,
   "id": "7249bea4",
   "metadata": {},
   "outputs": [],
   "source": [
    "import gradio as gr\n",
    "import torch\n",
    "import torch.nn.functional as F\n",
    "from facenet_pytorch import MTCNN, InceptionResnetV1\n",
    "import numpy as np\n",
    "from PIL import Image\n",
    "import cv2\n",
    "from pytorch_grad_cam import GradCAM\n",
    "from pytorch_grad_cam.utils.model_targets import ClassifierOutputTarget\n",
    "from pytorch_grad_cam.utils.image import show_cam_on_image\n",
    "import warnings\n",
    "warnings.filterwarnings(\"ignore\")"
   ]
  },
  {
   "cell_type": "markdown",
   "id": "d25e1c5d",
   "metadata": {},
   "source": [
    "# Download and Load Model"
   ]
  },
  {
   "cell_type": "code",
   "execution_count": 4,
   "id": "237fbf44",
   "metadata": {},
   "outputs": [],
   "source": [
    "DEVICE = 'cuda:0' if torch.cuda.is_available() else 'cpu'\n",
    "\n",
    "mtcnn = MTCNN(\n",
    "    select_largest=False,\n",
    "    post_process=False,\n",
    "    device=DEVICE\n",
    ").to(DEVICE).eval()"
   ]
  },
  {
   "cell_type": "code",
   "execution_count": 23,
   "id": "f3ef2b4f",
   "metadata": {},
   "outputs": [
    {
     "ename": "FileNotFoundError",
     "evalue": "[Errno 2] No such file or directory: 'resnetinceptionv1_epoch_32.pth'",
     "output_type": "error",
     "traceback": [
      "\u001b[1;31m---------------------------------------------------------------------------\u001b[0m",
      "\u001b[1;31mFileNotFoundError\u001b[0m                         Traceback (most recent call last)",
      "Cell \u001b[1;32mIn[23], line 8\u001b[0m\n\u001b[0;32m      1\u001b[0m model \u001b[38;5;241m=\u001b[39m InceptionResnetV1(\n\u001b[0;32m      2\u001b[0m     pretrained\u001b[38;5;241m=\u001b[39m\u001b[38;5;124m\"\u001b[39m\u001b[38;5;124mvggface2\u001b[39m\u001b[38;5;124m\"\u001b[39m,\n\u001b[0;32m      3\u001b[0m     classify\u001b[38;5;241m=\u001b[39m\u001b[38;5;28;01mTrue\u001b[39;00m,\n\u001b[0;32m      4\u001b[0m     num_classes\u001b[38;5;241m=\u001b[39m\u001b[38;5;241m1\u001b[39m,\n\u001b[0;32m      5\u001b[0m     device\u001b[38;5;241m=\u001b[39mDEVICE\n\u001b[0;32m      6\u001b[0m )\n\u001b[1;32m----> 8\u001b[0m checkpoint \u001b[38;5;241m=\u001b[39m \u001b[43mtorch\u001b[49m\u001b[38;5;241;43m.\u001b[39;49m\u001b[43mload\u001b[49m\u001b[43m(\u001b[49m\u001b[38;5;124;43m\"\u001b[39;49m\u001b[38;5;124;43mresnetinceptionv1_epoch_32.pth\u001b[39;49m\u001b[38;5;124;43m\"\u001b[39;49m\u001b[43m,\u001b[49m\u001b[43m \u001b[49m\u001b[43mmap_location\u001b[49m\u001b[38;5;241;43m=\u001b[39;49m\u001b[43mtorch\u001b[49m\u001b[38;5;241;43m.\u001b[39;49m\u001b[43mdevice\u001b[49m\u001b[43m(\u001b[49m\u001b[38;5;124;43m'\u001b[39;49m\u001b[38;5;124;43mcpu\u001b[39;49m\u001b[38;5;124;43m'\u001b[39;49m\u001b[43m)\u001b[49m\u001b[43m)\u001b[49m\n\u001b[0;32m      9\u001b[0m model\u001b[38;5;241m.\u001b[39mload_state_dict(checkpoint[\u001b[38;5;124m'\u001b[39m\u001b[38;5;124mmodel_state_dict\u001b[39m\u001b[38;5;124m'\u001b[39m])\n\u001b[0;32m     10\u001b[0m model\u001b[38;5;241m.\u001b[39mto(DEVICE)\n",
      "File \u001b[1;32mC:\\kandikits\\deepfake-detection\\deepfake-detection-env\\lib\\site-packages\\torch\\serialization.py:699\u001b[0m, in \u001b[0;36mload\u001b[1;34m(f, map_location, pickle_module, **pickle_load_args)\u001b[0m\n\u001b[0;32m    696\u001b[0m \u001b[38;5;28;01mif\u001b[39;00m \u001b[38;5;124m'\u001b[39m\u001b[38;5;124mencoding\u001b[39m\u001b[38;5;124m'\u001b[39m \u001b[38;5;129;01mnot\u001b[39;00m \u001b[38;5;129;01min\u001b[39;00m pickle_load_args\u001b[38;5;241m.\u001b[39mkeys():\n\u001b[0;32m    697\u001b[0m     pickle_load_args[\u001b[38;5;124m'\u001b[39m\u001b[38;5;124mencoding\u001b[39m\u001b[38;5;124m'\u001b[39m] \u001b[38;5;241m=\u001b[39m \u001b[38;5;124m'\u001b[39m\u001b[38;5;124mutf-8\u001b[39m\u001b[38;5;124m'\u001b[39m\n\u001b[1;32m--> 699\u001b[0m \u001b[38;5;28;01mwith\u001b[39;00m \u001b[43m_open_file_like\u001b[49m\u001b[43m(\u001b[49m\u001b[43mf\u001b[49m\u001b[43m,\u001b[49m\u001b[43m \u001b[49m\u001b[38;5;124;43m'\u001b[39;49m\u001b[38;5;124;43mrb\u001b[39;49m\u001b[38;5;124;43m'\u001b[39;49m\u001b[43m)\u001b[49m \u001b[38;5;28;01mas\u001b[39;00m opened_file:\n\u001b[0;32m    700\u001b[0m     \u001b[38;5;28;01mif\u001b[39;00m _is_zipfile(opened_file):\n\u001b[0;32m    701\u001b[0m         \u001b[38;5;66;03m# The zipfile reader is going to advance the current file position.\u001b[39;00m\n\u001b[0;32m    702\u001b[0m         \u001b[38;5;66;03m# If we want to actually tail call to torch.jit.load, we need to\u001b[39;00m\n\u001b[0;32m    703\u001b[0m         \u001b[38;5;66;03m# reset back to the original position.\u001b[39;00m\n\u001b[0;32m    704\u001b[0m         orig_position \u001b[38;5;241m=\u001b[39m opened_file\u001b[38;5;241m.\u001b[39mtell()\n",
      "File \u001b[1;32mC:\\kandikits\\deepfake-detection\\deepfake-detection-env\\lib\\site-packages\\torch\\serialization.py:231\u001b[0m, in \u001b[0;36m_open_file_like\u001b[1;34m(name_or_buffer, mode)\u001b[0m\n\u001b[0;32m    229\u001b[0m \u001b[38;5;28;01mdef\u001b[39;00m \u001b[38;5;21m_open_file_like\u001b[39m(name_or_buffer, mode):\n\u001b[0;32m    230\u001b[0m     \u001b[38;5;28;01mif\u001b[39;00m _is_path(name_or_buffer):\n\u001b[1;32m--> 231\u001b[0m         \u001b[38;5;28;01mreturn\u001b[39;00m \u001b[43m_open_file\u001b[49m\u001b[43m(\u001b[49m\u001b[43mname_or_buffer\u001b[49m\u001b[43m,\u001b[49m\u001b[43m \u001b[49m\u001b[43mmode\u001b[49m\u001b[43m)\u001b[49m\n\u001b[0;32m    232\u001b[0m     \u001b[38;5;28;01melse\u001b[39;00m:\n\u001b[0;32m    233\u001b[0m         \u001b[38;5;28;01mif\u001b[39;00m \u001b[38;5;124m'\u001b[39m\u001b[38;5;124mw\u001b[39m\u001b[38;5;124m'\u001b[39m \u001b[38;5;129;01min\u001b[39;00m mode:\n",
      "File \u001b[1;32mC:\\kandikits\\deepfake-detection\\deepfake-detection-env\\lib\\site-packages\\torch\\serialization.py:212\u001b[0m, in \u001b[0;36m_open_file.__init__\u001b[1;34m(self, name, mode)\u001b[0m\n\u001b[0;32m    211\u001b[0m \u001b[38;5;28;01mdef\u001b[39;00m \u001b[38;5;21m__init__\u001b[39m(\u001b[38;5;28mself\u001b[39m, name, mode):\n\u001b[1;32m--> 212\u001b[0m     \u001b[38;5;28msuper\u001b[39m(_open_file, \u001b[38;5;28mself\u001b[39m)\u001b[38;5;241m.\u001b[39m\u001b[38;5;21m__init__\u001b[39m(\u001b[38;5;28;43mopen\u001b[39;49m\u001b[43m(\u001b[49m\u001b[43mname\u001b[49m\u001b[43m,\u001b[49m\u001b[43m \u001b[49m\u001b[43mmode\u001b[49m\u001b[43m)\u001b[49m)\n",
      "\u001b[1;31mFileNotFoundError\u001b[0m: [Errno 2] No such file or directory: 'resnetinceptionv1_epoch_32.pth'"
     ]
    }
   ],
   "source": [
    "model = InceptionResnetV1(\n",
    "    pretrained=\"vggface2\",\n",
    "    classify=True,\n",
    "    num_classes=1,\n",
    "    device=DEVICE\n",
    ")\n",
    "\n",
    "checkpoint = torch.load(\"resnetinceptionv1_epoch_32.pth\", map_location=torch.device('cpu'))\n",
    "model.load_state_dict(checkpoint['model_state_dict'])\n",
    "model.to(DEVICE)\n",
    "model.eval()"
   ]
  },
  {
   "cell_type": "markdown",
   "id": "a499194a",
   "metadata": {},
   "source": [
    "# Model Inference "
   ]
  },
  {
   "cell_type": "code",
   "execution_count": 24,
   "id": "376e6cd6",
   "metadata": {},
   "outputs": [],
   "source": [
    "def predict(input_image:Image.Image):\n",
    "    \"\"\"Predict the label of the input_image\"\"\"\n",
    "    face = mtcnn(input_image)\n",
    "    if face is None:\n",
    "        raise Exception('No face detected')\n",
    "    face = face.unsqueeze(0) # add the batch dimension\n",
    "    face = F.interpolate(face, size=(256, 256), mode='bilinear', align_corners=False)\n",
    "    \n",
    "    # convert the face into a numpy array to be able to plot it\n",
    "    prev_face = face.squeeze(0).permute(1, 2, 0).cpu().detach().int().numpy()\n",
    "    prev_face = prev_face.astype('uint8')\n",
    "\n",
    "    face = face.to(DEVICE)\n",
    "    face = face.to(torch.float32)\n",
    "    face = face / 255.0\n",
    "    face_image_to_plot = face.squeeze(0).permute(1, 2, 0).cpu().detach().int().numpy()\n",
    "\n",
    "    target_layers=[model.block8.branch1[-1]]\n",
    "    use_cuda = True if torch.cuda.is_available() else False\n",
    "    cam = GradCAM(model=model, target_layers=target_layers, use_cuda=use_cuda)\n",
    "    targets = [ClassifierOutputTarget(0)]\n",
    "\n",
    "    grayscale_cam = cam(input_tensor=face, targets=targets, eigen_smooth=True)\n",
    "    grayscale_cam = grayscale_cam[0, :]\n",
    "    visualization = show_cam_on_image(face_image_to_plot, grayscale_cam, use_rgb=True)\n",
    "    face_with_mask = cv2.addWeighted(prev_face, 1, visualization, 0.5, 0)\n",
    "\n",
    "    with torch.no_grad():\n",
    "        output = torch.sigmoid(model(face).squeeze(0))\n",
    "        prediction = \"real\" if output.item() < 0.5 else \"fake\"\n",
    "        \n",
    "        real_prediction = 1 - output.item()\n",
    "        fake_prediction = output.item()\n",
    "        \n",
    "        confidences = {\n",
    "            'real': real_prediction,\n",
    "            'fake': fake_prediction\n",
    "        }\n",
    "    return confidences, face_with_mask\n"
   ]
  },
  {
   "cell_type": "markdown",
   "id": "14f47b5a",
   "metadata": {},
   "source": [
    "# Gradio Interface"
   ]
  },
  {
   "cell_type": "code",
   "execution_count": 25,
   "id": "d62177b5",
   "metadata": {},
   "outputs": [
    {
     "name": "stdout",
     "output_type": "stream",
     "text": [
      "Running on local URL:  http://127.0.0.1:7863\n",
      "\n",
      "To create a public link, set `share=True` in `launch()`.\n"
     ]
    },
    {
     "data": {
      "text/html": [
       "<div><iframe src=\"http://127.0.0.1:7863/\" width=\"100%\" height=\"500\" allow=\"autoplay; camera; microphone; clipboard-read; clipboard-write;\" frameborder=\"0\" allowfullscreen></iframe></div>"
      ],
      "text/plain": [
       "<IPython.core.display.HTML object>"
      ]
     },
     "metadata": {},
     "output_type": "display_data"
    },
    {
     "name": "stdout",
     "output_type": "stream",
     "text": [
      "IMPORTANT: You are using gradio version 3.39.0, however version 4.29.0 is available, please upgrade.\n",
      "--------\n"
     ]
    },
    {
     "name": "stderr",
     "output_type": "stream",
     "text": [
      "Traceback (most recent call last):\n",
      "  File \"C:\\kandikits\\deepfake-detection\\deepfake-detection-env\\lib\\site-packages\\gradio\\routes.py\", line 442, in run_predict\n",
      "    output = await app.get_blocks().process_api(\n",
      "  File \"C:\\kandikits\\deepfake-detection\\deepfake-detection-env\\lib\\site-packages\\gradio\\blocks.py\", line 1392, in process_api\n",
      "    result = await self.call_function(\n",
      "  File \"C:\\kandikits\\deepfake-detection\\deepfake-detection-env\\lib\\site-packages\\gradio\\blocks.py\", line 1097, in call_function\n",
      "    prediction = await anyio.to_thread.run_sync(\n",
      "  File \"C:\\kandikits\\deepfake-detection\\deepfake-detection-env\\lib\\site-packages\\anyio\\to_thread.py\", line 56, in run_sync\n",
      "    return await get_async_backend().run_sync_in_worker_thread(\n",
      "  File \"C:\\kandikits\\deepfake-detection\\deepfake-detection-env\\lib\\site-packages\\anyio\\_backends\\_asyncio.py\", line 2177, in run_sync_in_worker_thread\n",
      "    return await future\n",
      "  File \"C:\\kandikits\\deepfake-detection\\deepfake-detection-env\\lib\\site-packages\\anyio\\_backends\\_asyncio.py\", line 859, in run\n",
      "    result = context.run(func, *args)\n",
      "  File \"C:\\kandikits\\deepfake-detection\\deepfake-detection-env\\lib\\site-packages\\gradio\\utils.py\", line 703, in wrapper\n",
      "    response = f(*args, **kwargs)\n",
      "  File \"C:\\Users\\bunny\\AppData\\Local\\Temp\\ipykernel_21764\\3111607599.py\", line 3, in predict\n",
      "    face = mtcnn(input_image)\n",
      "  File \"C:\\kandikits\\deepfake-detection\\deepfake-detection-env\\lib\\site-packages\\torch\\nn\\modules\\module.py\", line 1110, in _call_impl\n",
      "    return forward_call(*input, **kwargs)\n",
      "  File \"C:\\kandikits\\deepfake-detection\\deepfake-detection-env\\lib\\site-packages\\facenet_pytorch\\models\\mtcnn.py\", line 258, in forward\n",
      "    batch_boxes, batch_probs, batch_points = self.detect(img, landmarks=True)\n",
      "  File \"C:\\kandikits\\deepfake-detection\\deepfake-detection-env\\lib\\site-packages\\facenet_pytorch\\models\\mtcnn.py\", line 313, in detect\n",
      "    batch_boxes, batch_points = detect_face(\n",
      "  File \"C:\\kandikits\\deepfake-detection\\deepfake-detection-env\\lib\\site-packages\\facenet_pytorch\\models\\utils\\detect_face.py\", line 38, in detect_face\n",
      "    if any(img.size != imgs[0].size for img in imgs):\n",
      "  File \"C:\\kandikits\\deepfake-detection\\deepfake-detection-env\\lib\\site-packages\\facenet_pytorch\\models\\utils\\detect_face.py\", line 38, in <genexpr>\n",
      "    if any(img.size != imgs[0].size for img in imgs):\n",
      "AttributeError: 'NoneType' object has no attribute 'size'\n",
      "Traceback (most recent call last):\n",
      "  File \"C:\\kandikits\\deepfake-detection\\deepfake-detection-env\\lib\\site-packages\\gradio\\routes.py\", line 442, in run_predict\n",
      "    output = await app.get_blocks().process_api(\n",
      "  File \"C:\\kandikits\\deepfake-detection\\deepfake-detection-env\\lib\\site-packages\\gradio\\blocks.py\", line 1392, in process_api\n",
      "    result = await self.call_function(\n",
      "  File \"C:\\kandikits\\deepfake-detection\\deepfake-detection-env\\lib\\site-packages\\gradio\\blocks.py\", line 1097, in call_function\n",
      "    prediction = await anyio.to_thread.run_sync(\n",
      "  File \"C:\\kandikits\\deepfake-detection\\deepfake-detection-env\\lib\\site-packages\\anyio\\to_thread.py\", line 56, in run_sync\n",
      "    return await get_async_backend().run_sync_in_worker_thread(\n",
      "  File \"C:\\kandikits\\deepfake-detection\\deepfake-detection-env\\lib\\site-packages\\anyio\\_backends\\_asyncio.py\", line 2177, in run_sync_in_worker_thread\n",
      "    return await future\n",
      "  File \"C:\\kandikits\\deepfake-detection\\deepfake-detection-env\\lib\\site-packages\\anyio\\_backends\\_asyncio.py\", line 859, in run\n",
      "    result = context.run(func, *args)\n",
      "  File \"C:\\kandikits\\deepfake-detection\\deepfake-detection-env\\lib\\site-packages\\gradio\\utils.py\", line 703, in wrapper\n",
      "    response = f(*args, **kwargs)\n",
      "  File \"C:\\Users\\bunny\\AppData\\Local\\Temp\\ipykernel_21764\\3111607599.py\", line 3, in predict\n",
      "    face = mtcnn(input_image)\n",
      "  File \"C:\\kandikits\\deepfake-detection\\deepfake-detection-env\\lib\\site-packages\\torch\\nn\\modules\\module.py\", line 1110, in _call_impl\n",
      "    return forward_call(*input, **kwargs)\n",
      "  File \"C:\\kandikits\\deepfake-detection\\deepfake-detection-env\\lib\\site-packages\\facenet_pytorch\\models\\mtcnn.py\", line 258, in forward\n",
      "    batch_boxes, batch_probs, batch_points = self.detect(img, landmarks=True)\n",
      "  File \"C:\\kandikits\\deepfake-detection\\deepfake-detection-env\\lib\\site-packages\\facenet_pytorch\\models\\mtcnn.py\", line 313, in detect\n",
      "    batch_boxes, batch_points = detect_face(\n",
      "  File \"C:\\kandikits\\deepfake-detection\\deepfake-detection-env\\lib\\site-packages\\facenet_pytorch\\models\\utils\\detect_face.py\", line 38, in detect_face\n",
      "    if any(img.size != imgs[0].size for img in imgs):\n",
      "  File \"C:\\kandikits\\deepfake-detection\\deepfake-detection-env\\lib\\site-packages\\facenet_pytorch\\models\\utils\\detect_face.py\", line 38, in <genexpr>\n",
      "    if any(img.size != imgs[0].size for img in imgs):\n",
      "AttributeError: 'NoneType' object has no attribute 'size'\n",
      "Traceback (most recent call last):\n",
      "  File \"C:\\kandikits\\deepfake-detection\\deepfake-detection-env\\lib\\site-packages\\gradio\\routes.py\", line 442, in run_predict\n",
      "    output = await app.get_blocks().process_api(\n",
      "  File \"C:\\kandikits\\deepfake-detection\\deepfake-detection-env\\lib\\site-packages\\gradio\\blocks.py\", line 1392, in process_api\n",
      "    result = await self.call_function(\n",
      "  File \"C:\\kandikits\\deepfake-detection\\deepfake-detection-env\\lib\\site-packages\\gradio\\blocks.py\", line 1097, in call_function\n",
      "    prediction = await anyio.to_thread.run_sync(\n",
      "  File \"C:\\kandikits\\deepfake-detection\\deepfake-detection-env\\lib\\site-packages\\anyio\\to_thread.py\", line 56, in run_sync\n",
      "    return await get_async_backend().run_sync_in_worker_thread(\n",
      "  File \"C:\\kandikits\\deepfake-detection\\deepfake-detection-env\\lib\\site-packages\\anyio\\_backends\\_asyncio.py\", line 2177, in run_sync_in_worker_thread\n",
      "    return await future\n",
      "  File \"C:\\kandikits\\deepfake-detection\\deepfake-detection-env\\lib\\site-packages\\anyio\\_backends\\_asyncio.py\", line 859, in run\n",
      "    result = context.run(func, *args)\n",
      "  File \"C:\\kandikits\\deepfake-detection\\deepfake-detection-env\\lib\\site-packages\\gradio\\utils.py\", line 703, in wrapper\n",
      "    response = f(*args, **kwargs)\n",
      "  File \"C:\\Users\\bunny\\AppData\\Local\\Temp\\ipykernel_21764\\3111607599.py\", line 3, in predict\n",
      "    face = mtcnn(input_image)\n",
      "  File \"C:\\kandikits\\deepfake-detection\\deepfake-detection-env\\lib\\site-packages\\torch\\nn\\modules\\module.py\", line 1110, in _call_impl\n",
      "    return forward_call(*input, **kwargs)\n",
      "  File \"C:\\kandikits\\deepfake-detection\\deepfake-detection-env\\lib\\site-packages\\facenet_pytorch\\models\\mtcnn.py\", line 258, in forward\n",
      "    batch_boxes, batch_probs, batch_points = self.detect(img, landmarks=True)\n",
      "  File \"C:\\kandikits\\deepfake-detection\\deepfake-detection-env\\lib\\site-packages\\facenet_pytorch\\models\\mtcnn.py\", line 313, in detect\n",
      "    batch_boxes, batch_points = detect_face(\n",
      "  File \"C:\\kandikits\\deepfake-detection\\deepfake-detection-env\\lib\\site-packages\\facenet_pytorch\\models\\utils\\detect_face.py\", line 38, in detect_face\n",
      "    if any(img.size != imgs[0].size for img in imgs):\n",
      "  File \"C:\\kandikits\\deepfake-detection\\deepfake-detection-env\\lib\\site-packages\\facenet_pytorch\\models\\utils\\detect_face.py\", line 38, in <genexpr>\n",
      "    if any(img.size != imgs[0].size for img in imgs):\n",
      "AttributeError: 'NoneType' object has no attribute 'size'\n",
      "Traceback (most recent call last):\n",
      "  File \"C:\\kandikits\\deepfake-detection\\deepfake-detection-env\\lib\\site-packages\\gradio\\routes.py\", line 442, in run_predict\n",
      "    output = await app.get_blocks().process_api(\n",
      "  File \"C:\\kandikits\\deepfake-detection\\deepfake-detection-env\\lib\\site-packages\\gradio\\blocks.py\", line 1392, in process_api\n",
      "    result = await self.call_function(\n",
      "  File \"C:\\kandikits\\deepfake-detection\\deepfake-detection-env\\lib\\site-packages\\gradio\\blocks.py\", line 1097, in call_function\n",
      "    prediction = await anyio.to_thread.run_sync(\n",
      "  File \"C:\\kandikits\\deepfake-detection\\deepfake-detection-env\\lib\\site-packages\\anyio\\to_thread.py\", line 56, in run_sync\n",
      "    return await get_async_backend().run_sync_in_worker_thread(\n",
      "  File \"C:\\kandikits\\deepfake-detection\\deepfake-detection-env\\lib\\site-packages\\anyio\\_backends\\_asyncio.py\", line 2177, in run_sync_in_worker_thread\n",
      "    return await future\n",
      "  File \"C:\\kandikits\\deepfake-detection\\deepfake-detection-env\\lib\\site-packages\\anyio\\_backends\\_asyncio.py\", line 859, in run\n",
      "    result = context.run(func, *args)\n",
      "  File \"C:\\kandikits\\deepfake-detection\\deepfake-detection-env\\lib\\site-packages\\gradio\\utils.py\", line 703, in wrapper\n",
      "    response = f(*args, **kwargs)\n",
      "  File \"C:\\Users\\bunny\\AppData\\Local\\Temp\\ipykernel_21764\\3111607599.py\", line 3, in predict\n",
      "    face = mtcnn(input_image)\n",
      "  File \"C:\\kandikits\\deepfake-detection\\deepfake-detection-env\\lib\\site-packages\\torch\\nn\\modules\\module.py\", line 1110, in _call_impl\n",
      "    return forward_call(*input, **kwargs)\n",
      "  File \"C:\\kandikits\\deepfake-detection\\deepfake-detection-env\\lib\\site-packages\\facenet_pytorch\\models\\mtcnn.py\", line 258, in forward\n",
      "    batch_boxes, batch_probs, batch_points = self.detect(img, landmarks=True)\n",
      "  File \"C:\\kandikits\\deepfake-detection\\deepfake-detection-env\\lib\\site-packages\\facenet_pytorch\\models\\mtcnn.py\", line 313, in detect\n",
      "    batch_boxes, batch_points = detect_face(\n",
      "  File \"C:\\kandikits\\deepfake-detection\\deepfake-detection-env\\lib\\site-packages\\facenet_pytorch\\models\\utils\\detect_face.py\", line 38, in detect_face\n",
      "    if any(img.size != imgs[0].size for img in imgs):\n",
      "  File \"C:\\kandikits\\deepfake-detection\\deepfake-detection-env\\lib\\site-packages\\facenet_pytorch\\models\\utils\\detect_face.py\", line 38, in <genexpr>\n",
      "    if any(img.size != imgs[0].size for img in imgs):\n",
      "AttributeError: 'NoneType' object has no attribute 'size'\n"
     ]
    }
   ],
   "source": [
    "interface = gr.Interface(\n",
    "    fn=predict,\n",
    "    inputs=[\n",
    "        gr.inputs.Image(label=\"Input Image\", type=\"pil\")\n",
    "    ],\n",
    "    outputs=[\n",
    "        gr.outputs.Label(label=\"Class\"),\n",
    "        gr.outputs.Image(label=\"Face with Explainability\", type=\"pil\")\n",
    "    ],\n",
    ").launch()"
   ]
  },
  {
   "cell_type": "code",
   "execution_count": null,
   "id": "0c0b293c",
   "metadata": {},
   "outputs": [],
   "source": []
  }
 ],
 "metadata": {
  "kernelspec": {
   "display_name": "Python 3 (ipykernel)",
   "language": "python",
   "name": "python3"
  },
  "language_info": {
   "codemirror_mode": {
    "name": "ipython",
    "version": 3
   },
   "file_extension": ".py",
   "mimetype": "text/x-python",
   "name": "python",
   "nbconvert_exporter": "python",
   "pygments_lexer": "ipython3",
   "version": "3.9.8"
  }
 },
 "nbformat": 4,
 "nbformat_minor": 5
}
