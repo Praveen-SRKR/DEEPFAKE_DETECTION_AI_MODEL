{
 "cells": [
  {
   "cell_type": "code",
   "execution_count": 1,
   "id": "d6b11866-d900-43cc-ab81-1aeb9d0e0adf",
   "metadata": {},
   "outputs": [
    {
     "data": {
      "text/plain": [
       "True"
      ]
     },
     "execution_count": 1,
     "metadata": {},
     "output_type": "execute_result"
    }
   ],
   "source": [
    "maxwidth, maxheight = 400, 500\n",
    "\n",
    "import cv2\n",
    "img = cv2.imread('testing.png')\n",
    "f1 = maxwidth / img.shape[1]\n",
    "f2 = maxheight / img.shape[0]\n",
    "f = min(f1, f2)  # resizing factor\n",
    "dim = (int(img.shape[1] * f), int(img.shape[0] * f))\n",
    "resized = cv2.resize(img, dim)\n",
    "cv2.imwrite('out.png', resized)"
   ]
  },
  {
   "cell_type": "code",
   "execution_count": null,
   "id": "e46a71d5-2a3b-4d6e-89b6-a7ef1f1adf64",
   "metadata": {},
   "outputs": [],
   "source": []
  }
 ],
 "metadata": {
  "kernelspec": {
   "display_name": "Python 3 (ipykernel)",
   "language": "python",
   "name": "python3"
  },
  "language_info": {
   "codemirror_mode": {
    "name": "ipython",
    "version": 3
   },
   "file_extension": ".py",
   "mimetype": "text/x-python",
   "name": "python",
   "nbconvert_exporter": "python",
   "pygments_lexer": "ipython3",
   "version": "3.9.8"
  }
 },
 "nbformat": 4,
 "nbformat_minor": 5
}
